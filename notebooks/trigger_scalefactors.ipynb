{
 "cells": [
  {
   "cell_type": "code",
   "execution_count": 1,
   "metadata": {},
   "outputs": [],
   "source": [
    "import uproot\n",
    "import yahist\n",
    "import json\n",
    "import glob\n",
    "import numpy as np\n",
    "\n",
    "from utils import make_table_1D, write_tool"
   ]
  },
  {
   "cell_type": "code",
   "execution_count": 2,
   "metadata": {},
   "outputs": [],
   "source": [
    "def get_tgraph(name, root_file):\n",
    "    # Get TGraph\n",
    "    with uproot.open(root_file) as f:\n",
    "        g = f.get(name)\n",
    "    # Translate to a 1D hist with asymmetric error bars\n",
    "    bin_edges = np.union1d(g._fX - g._fEXlow, g._fX + g._fEXhigh)\n",
    "    bin_counts = g._fY\n",
    "    h = yahist.Hist1D.from_bincounts(bin_counts, bins=bin_edges)\n",
    "    h._errors_up = g._fEYhigh\n",
    "    h._errors_down = g._fEYlow\n",
    "    return h"
   ]
  },
  {
   "cell_type": "code",
   "execution_count": 3,
   "metadata": {},
   "outputs": [],
   "source": [
    "def make_trigger_func(root_file_map, func_name):\n",
    "    all_cpp = f\"\\nfloat {func_name}(float eta, float pt, int year) {{\\n\"\n",
    "    for year, root_file in root_file_map.items():\n",
    "        all_cpp += f\"    // {root_file.split('/')[-1]}\\n\"\n",
    "        with uproot.open(root_file) as f:\n",
    "            # Get all histogram names\n",
    "            hist_names = [k.decode(\"utf-8\")[:-2] for k in f.keys() if \"ZMassEta\" in str(k)]\n",
    "        # Extract eta bins\n",
    "        eta_bins = []\n",
    "        eta_overflow = False\n",
    "        eta_underflow = False\n",
    "        for n in hist_names:\n",
    "            n = n.split(\"_\")[0].split(\"ZMassEta\")[-1]\n",
    "            if \"Lt\" in n:\n",
    "                eta_bins.append(float(n.split(\"Lt\")[-1].replace(\"p\", \".\")))\n",
    "                eta_underflow = True\n",
    "            elif \"Gt\" in n:\n",
    "                eta_bins.append(float(n.split(\"Gt\")[-1].replace(\"p\", \".\")))\n",
    "                eta_overflow = True\n",
    "            else:\n",
    "                eta_bins += [float(b.replace(\"p\", \".\")) for b in n.split(\"to\")]\n",
    "        eta_bins = sorted(list(set(eta_bins)))\n",
    "        # Zip up data and MC hist names for ease of use\n",
    "        hist_names = list(zip(\n",
    "            [str(n) for n in hist_names if \"_Data\" in str(n)],\n",
    "            [str(n) for n in hist_names if \"_MC\" in str(n)]\n",
    "        ))\n",
    "        # Make C++ lookup table\n",
    "        cpp = \"\"\n",
    "        for i, (data_name, mc_name) in enumerate(hist_names):\n",
    "            # Just in case...\n",
    "            if data_name.split(\"_\")[0] != mc_name.split(\"_\")[0]:\n",
    "                print(\"ERROR: These two histograms belong to different eta bins!\")\n",
    "                print(data_name, mc_name)\n",
    "                return\n",
    "            if eta_underflow and i == 0:\n",
    "                eta_condition = f\"        if (fabs(eta) < {eta_bins[i]}) {{\"\n",
    "            elif eta_overflow and i == len(hist_names) - 1:\n",
    "                eta_condition = f\"        if (fabs(eta) >= {eta_bins[i-1]}) {{\"\n",
    "            else:\n",
    "                eta_condition = f\"        if (fabs(eta) < {eta_bins[i]} && fabs(eta) >= {eta_bins[i-1]}) {{\"\n",
    "            # Fetch data and MC histograms, and compute scale factors\n",
    "            data_hist = get_tgraph(data_name, root_file)\n",
    "            mc_hist = get_tgraph(mc_name, root_file)\n",
    "            sf_hist = data_hist.divide(mc_hist)\n",
    "            sf_hist._counts[~np.isfinite(sf_hist._counts)] = sf_hist._counts[np.isfinite(sf_hist._counts)][0]\n",
    "            # Generate lookup table for the sf histogram\n",
    "            sf_cpp = make_table_1D(\n",
    "                sf_hist._counts, \n",
    "                sf_hist._edges, \n",
    "                x_name=\"pt\", \n",
    "                x_abs=False, \n",
    "                x_type=\"float\", \n",
    "                overflow=True\n",
    "            )\n",
    "            # Indent generated code\n",
    "            sf_cpp = \"\\n\".join([\"        \"+line for line in sf_cpp.split(\"\\n\")])\n",
    "            # Append code\n",
    "            cpp += \"\\n\".join(\n",
    "                [eta_condition, f\"            // {data_name}/{mc_name}\"]\n",
    "                + sf_cpp.split(\"\\n\")[2:-3]\n",
    "                + [\"        }\"]\n",
    "            )\n",
    "            if i < len(hist_names) - 1:\n",
    "                cpp += \"\\n\"\n",
    "        # Append to function\n",
    "        all_cpp += \"\\n\".join([f\"    if (year == {year}) {{\"]+cpp.split(\"\\n\")+[\"    }\", \"\"])\n",
    "    all_cpp += \"    return 0.0;\\n\"\n",
    "    all_cpp += \"}\\n\"\n",
    "    return all_cpp"
   ]
  },
  {
   "cell_type": "code",
   "execution_count": 4,
   "metadata": {},
   "outputs": [
    {
     "ename": "ValueError",
     "evalue": "not a ROOT file (starts with b'404:' instead of 'root')\n   in file: data/trigger_scalefactors/Electron_Ele25WPTight_eff.root",
     "output_type": "error",
     "traceback": [
      "\u001b[0;31m---------------------------------------------------------------------------\u001b[0m",
      "\u001b[0;31mValueError\u001b[0m                                Traceback (most recent call last)",
      "\u001b[0;32m<ipython-input-4-796dfae640a8>\u001b[0m in \u001b[0;36m<module>\u001b[0;34m\u001b[0m\n\u001b[1;32m      7\u001b[0m }\n\u001b[1;32m      8\u001b[0m \u001b[0;34m\u001b[0m\u001b[0m\n\u001b[0;32m----> 9\u001b[0;31m \u001b[0mel_cpp\u001b[0m \u001b[0;34m=\u001b[0m \u001b[0mmake_trigger_func\u001b[0m\u001b[0;34m(\u001b[0m\u001b[0mel_root_files\u001b[0m\u001b[0;34m,\u001b[0m \u001b[0;34m\"getTauChannelElecTriggerSF\"\u001b[0m\u001b[0;34m)\u001b[0m\u001b[0;34m\u001b[0m\u001b[0;34m\u001b[0m\u001b[0m\n\u001b[0m\u001b[1;32m     10\u001b[0m \u001b[0mwrite_tool\u001b[0m\u001b[0;34m(\u001b[0m\u001b[0mel_cpp\u001b[0m\u001b[0;34m,\u001b[0m \u001b[0mwritemode\u001b[0m\u001b[0;34m=\u001b[0m\u001b[0;34m\"w\"\u001b[0m\u001b[0;34m,\u001b[0m \u001b[0mname\u001b[0m\u001b[0;34m=\u001b[0m\u001b[0;34m\"triggerScaleFactors\"\u001b[0m\u001b[0;34m)\u001b[0m\u001b[0;34m\u001b[0m\u001b[0;34m\u001b[0m\u001b[0m\n\u001b[1;32m     11\u001b[0m \u001b[0;34m\u001b[0m\u001b[0m\n",
      "\u001b[0;32m<ipython-input-3-d19701b1fc8f>\u001b[0m in \u001b[0;36mmake_trigger_func\u001b[0;34m(root_file_map, func_name)\u001b[0m\n\u001b[1;32m      3\u001b[0m     \u001b[0;32mfor\u001b[0m \u001b[0myear\u001b[0m\u001b[0;34m,\u001b[0m \u001b[0mroot_file\u001b[0m \u001b[0;32min\u001b[0m \u001b[0mroot_file_map\u001b[0m\u001b[0;34m.\u001b[0m\u001b[0mitems\u001b[0m\u001b[0;34m(\u001b[0m\u001b[0;34m)\u001b[0m\u001b[0;34m:\u001b[0m\u001b[0;34m\u001b[0m\u001b[0;34m\u001b[0m\u001b[0m\n\u001b[1;32m      4\u001b[0m         \u001b[0mall_cpp\u001b[0m \u001b[0;34m+=\u001b[0m \u001b[0;34mf\"    // {root_file.split('/')[-1]}\\n\"\u001b[0m\u001b[0;34m\u001b[0m\u001b[0;34m\u001b[0m\u001b[0m\n\u001b[0;32m----> 5\u001b[0;31m         \u001b[0;32mwith\u001b[0m \u001b[0muproot\u001b[0m\u001b[0;34m.\u001b[0m\u001b[0mopen\u001b[0m\u001b[0;34m(\u001b[0m\u001b[0mroot_file\u001b[0m\u001b[0;34m)\u001b[0m \u001b[0;32mas\u001b[0m \u001b[0mf\u001b[0m\u001b[0;34m:\u001b[0m\u001b[0;34m\u001b[0m\u001b[0;34m\u001b[0m\u001b[0m\n\u001b[0m\u001b[1;32m      6\u001b[0m             \u001b[0;31m# Get all histogram names\u001b[0m\u001b[0;34m\u001b[0m\u001b[0;34m\u001b[0m\u001b[0;34m\u001b[0m\u001b[0m\n\u001b[1;32m      7\u001b[0m             \u001b[0mhist_names\u001b[0m \u001b[0;34m=\u001b[0m \u001b[0;34m[\u001b[0m\u001b[0mk\u001b[0m\u001b[0;34m.\u001b[0m\u001b[0mdecode\u001b[0m\u001b[0;34m(\u001b[0m\u001b[0;34m\"utf-8\"\u001b[0m\u001b[0;34m)\u001b[0m\u001b[0;34m[\u001b[0m\u001b[0;34m:\u001b[0m\u001b[0;34m-\u001b[0m\u001b[0;36m2\u001b[0m\u001b[0;34m]\u001b[0m \u001b[0;32mfor\u001b[0m \u001b[0mk\u001b[0m \u001b[0;32min\u001b[0m \u001b[0mf\u001b[0m\u001b[0;34m.\u001b[0m\u001b[0mkeys\u001b[0m\u001b[0;34m(\u001b[0m\u001b[0;34m)\u001b[0m \u001b[0;32mif\u001b[0m \u001b[0;34m\"ZMassEta\"\u001b[0m \u001b[0;32min\u001b[0m \u001b[0mstr\u001b[0m\u001b[0;34m(\u001b[0m\u001b[0mk\u001b[0m\u001b[0;34m)\u001b[0m\u001b[0;34m]\u001b[0m\u001b[0;34m\u001b[0m\u001b[0;34m\u001b[0m\u001b[0m\n",
      "\u001b[0;32m~/miniconda3/envs/vbs/lib/python3.8/site-packages/uproot/rootio.py\u001b[0m in \u001b[0;36mopen\u001b[0;34m(path, localsource, xrootdsource, httpsource, **options)\u001b[0m\n\u001b[1;32m     52\u001b[0m         \u001b[0;32melse\u001b[0m\u001b[0;34m:\u001b[0m\u001b[0;34m\u001b[0m\u001b[0;34m\u001b[0m\u001b[0m\n\u001b[1;32m     53\u001b[0m             \u001b[0mopenfcn\u001b[0m \u001b[0;34m=\u001b[0m \u001b[0mlocalsource\u001b[0m\u001b[0;34m\u001b[0m\u001b[0;34m\u001b[0m\u001b[0m\n\u001b[0;32m---> 54\u001b[0;31m         \u001b[0;32mreturn\u001b[0m \u001b[0mROOTDirectory\u001b[0m\u001b[0;34m.\u001b[0m\u001b[0mread\u001b[0m\u001b[0;34m(\u001b[0m\u001b[0mopenfcn\u001b[0m\u001b[0;34m(\u001b[0m\u001b[0mpath\u001b[0m\u001b[0;34m)\u001b[0m\u001b[0;34m,\u001b[0m \u001b[0;34m**\u001b[0m\u001b[0moptions\u001b[0m\u001b[0;34m)\u001b[0m\u001b[0;34m\u001b[0m\u001b[0;34m\u001b[0m\u001b[0m\n\u001b[0m\u001b[1;32m     55\u001b[0m \u001b[0;34m\u001b[0m\u001b[0m\n\u001b[1;32m     56\u001b[0m     \u001b[0;32melif\u001b[0m \u001b[0m_bytesid\u001b[0m\u001b[0;34m(\u001b[0m\u001b[0mparsed\u001b[0m\u001b[0;34m.\u001b[0m\u001b[0mscheme\u001b[0m\u001b[0;34m)\u001b[0m \u001b[0;34m==\u001b[0m \u001b[0;34mb\"root\"\u001b[0m\u001b[0;34m:\u001b[0m\u001b[0;34m\u001b[0m\u001b[0;34m\u001b[0m\u001b[0m\n",
      "\u001b[0;32m~/miniconda3/envs/vbs/lib/python3.8/site-packages/uproot/rootio.py\u001b[0m in \u001b[0;36mread\u001b[0;34m(source, *args, **options)\u001b[0m\n\u001b[1;32m    122\u001b[0m                 \u001b[0mmagic\u001b[0m\u001b[0;34m,\u001b[0m \u001b[0mfVersion\u001b[0m \u001b[0;34m=\u001b[0m \u001b[0mcursor\u001b[0m\u001b[0;34m.\u001b[0m\u001b[0mfields\u001b[0m\u001b[0;34m(\u001b[0m\u001b[0msource\u001b[0m\u001b[0;34m,\u001b[0m \u001b[0mROOTDirectory\u001b[0m\u001b[0;34m.\u001b[0m\u001b[0m_format1\u001b[0m\u001b[0;34m)\u001b[0m\u001b[0;34m\u001b[0m\u001b[0;34m\u001b[0m\u001b[0m\n\u001b[1;32m    123\u001b[0m                 \u001b[0;32mif\u001b[0m \u001b[0mmagic\u001b[0m \u001b[0;34m!=\u001b[0m \u001b[0;34mb\"root\"\u001b[0m\u001b[0;34m:\u001b[0m\u001b[0;34m\u001b[0m\u001b[0;34m\u001b[0m\u001b[0m\n\u001b[0;32m--> 124\u001b[0;31m                     \u001b[0;32mraise\u001b[0m \u001b[0mValueError\u001b[0m\u001b[0;34m(\u001b[0m\u001b[0;34m\"not a ROOT file (starts with {0} instead of 'root')\\n   in file: {1}\"\u001b[0m\u001b[0;34m.\u001b[0m\u001b[0mformat\u001b[0m\u001b[0;34m(\u001b[0m\u001b[0mrepr\u001b[0m\u001b[0;34m(\u001b[0m\u001b[0mmagic\u001b[0m\u001b[0;34m)\u001b[0m\u001b[0;34m,\u001b[0m \u001b[0msource\u001b[0m\u001b[0;34m.\u001b[0m\u001b[0mpath\u001b[0m\u001b[0;34m)\u001b[0m\u001b[0;34m)\u001b[0m\u001b[0;34m\u001b[0m\u001b[0;34m\u001b[0m\u001b[0m\n\u001b[0m\u001b[1;32m    125\u001b[0m                 \u001b[0;32mif\u001b[0m \u001b[0mfVersion\u001b[0m \u001b[0;34m<\u001b[0m \u001b[0;36m1000000\u001b[0m\u001b[0;34m:\u001b[0m\u001b[0;34m\u001b[0m\u001b[0;34m\u001b[0m\u001b[0m\n\u001b[1;32m    126\u001b[0m                     \u001b[0mfBEGIN\u001b[0m\u001b[0;34m,\u001b[0m \u001b[0mfEND\u001b[0m\u001b[0;34m,\u001b[0m \u001b[0mfSeekFree\u001b[0m\u001b[0;34m,\u001b[0m \u001b[0mfNbytesFree\u001b[0m\u001b[0;34m,\u001b[0m \u001b[0mnfree\u001b[0m\u001b[0;34m,\u001b[0m \u001b[0mfNbytesName\u001b[0m\u001b[0;34m,\u001b[0m \u001b[0mfUnits\u001b[0m\u001b[0;34m,\u001b[0m \u001b[0mfCompress\u001b[0m\u001b[0;34m,\u001b[0m \u001b[0mfSeekInfo\u001b[0m\u001b[0;34m,\u001b[0m \u001b[0mfNbytesInfo\u001b[0m\u001b[0;34m,\u001b[0m \u001b[0mfUUID\u001b[0m \u001b[0;34m=\u001b[0m \u001b[0mcursor\u001b[0m\u001b[0;34m.\u001b[0m\u001b[0mfields\u001b[0m\u001b[0;34m(\u001b[0m\u001b[0msource\u001b[0m\u001b[0;34m,\u001b[0m \u001b[0mROOTDirectory\u001b[0m\u001b[0;34m.\u001b[0m\u001b[0m_format2_small\u001b[0m\u001b[0;34m)\u001b[0m\u001b[0;34m\u001b[0m\u001b[0;34m\u001b[0m\u001b[0m\n",
      "\u001b[0;31mValueError\u001b[0m: not a ROOT file (starts with b'404:' instead of 'root')\n   in file: data/trigger_scalefactors/Electron_Ele25WPTight_eff.root"
     ]
    }
   ],
   "source": [
    "hist_dir = \"data/trigger_scalefactors\"\n",
    "\n",
    "el_root_files = {\n",
    "    2016: f\"{hist_dir}/Electron_Ele25WPTight_eff.root\",\n",
    "    2017: f\"{hist_dir}/Electron_Ele32orEle35_eff.root\",\n",
    "    2018: f\"{hist_dir}/Electron_Run2018_Ele32orEle35.root\"\n",
    "}\n",
    "\n",
    "el_cpp = make_trigger_func(el_root_files, \"getTauChannelElecTriggerSF\")\n",
    "write_tool(el_cpp, writemode=\"w\", name=\"triggerScaleFactors\")\n",
    "\n",
    "mu_root_files = {\n",
    "    2016: f\"{hist_dir}/Muon_Mu22OR_eta2p1_eff.root\",\n",
    "    2017: f\"{hist_dir}/Muon_IsoMu24orIsoMu27_eff.root\",\n",
    "    2018: f\"{hist_dir}/Muon_Run2018_IsoMu24orIsoMu27.root\"\n",
    "}\n",
    "mu_cpp = make_trigger_func(mu_root_files, \"getTauChannelMuonTriggerSF\")\n",
    "write_tool(mu_cpp, writemode=\"a\", name=\"triggerScaleFactors\")"
   ]
  }
 ],
 "metadata": {
  "kernelspec": {
   "display_name": "Python 3",
   "language": "python",
   "name": "python3"
  },
  "language_info": {
   "codemirror_mode": {
    "name": "ipython",
    "version": 3
   },
   "file_extension": ".py",
   "mimetype": "text/x-python",
   "name": "python",
   "nbconvert_exporter": "python",
   "pygments_lexer": "ipython3",
   "version": "3.8.2"
  }
 },
 "nbformat": 4,
 "nbformat_minor": 4
}
